{
 "cells": [
  {
   "cell_type": "markdown",
   "metadata": {},
   "source": [
    "## [作業目標]\n",
    "了解機器學習適合應用的領域與範疇。"
   ]
  },
  {
   "cell_type": "markdown",
   "metadata": {},
   "source": [
    "## [作業重點]\n",
    "透過瞭解機器學習的運作方式，找出非常適用機器學習應用的領域及其原因"
   ]
  },
  {
   "cell_type": "markdown",
   "metadata": {},
   "source": [
    "## 作業\n",
    "請找出一個你認為機器學習可以發光發熱的領域並闡述原因? "
   ]
  },
  {
   "cell_type": "code",
   "execution_count": null,
   "metadata": {},
   "outputs": [],
   "source": [
    "近年掀起的健身風潮，我認為將機器學習結合健身產業，有助於提升產業價值與用戶體驗。\n",
    "淺談健身的目的不外乎，讓自己有更好的身體素質與體態。良好的健身計畫，包含了飲食、訓練課表與作息的規劃。\n",
    "許多健身房的會員，投入心力或購買課程，而在眾多因素影響，卻沒有獲得相對應的成果。\n",
    "每個人的身型與體態不盡相同，由機器學習依照用戶的身體素質制定客製化的健身計畫，且健身房器材設備加入影像辨識輔助系統，\n",
    "提供姿勢輔助及安全防護，讓整體的健身計劃事半功倍，創造多贏的局面。"
   ]
  }
 ],
 "metadata": {
  "kernelspec": {
   "display_name": "Python 3",
   "language": "python",
   "name": "python3"
  },
  "language_info": {
   "codemirror_mode": {
    "name": "ipython",
    "version": 3
   },
   "file_extension": ".py",
   "mimetype": "text/x-python",
   "name": "python",
   "nbconvert_exporter": "python",
   "pygments_lexer": "ipython3",
   "version": "3.7.3"
  }
 },
 "nbformat": 4,
 "nbformat_minor": 2
}
