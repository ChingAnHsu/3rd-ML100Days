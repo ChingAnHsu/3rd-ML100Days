{
 "cells": [
  {
   "cell_type": "markdown",
   "metadata": {},
   "source": [
    "## 練習時間\n",
    "相信大家對回歸問題及分類問題都有初步的了解。今天的作業希望大家搜尋有關 multi-label 的案例問題。下圖是電影 \"奇異博士\" 的分類。可以看到同時有 \"Action\", \"Adventure\", \"Fantasy\" 的類別存在，代表這是個多標籤的問題。 "
   ]
  },
  {
   "cell_type": "markdown",
   "metadata": {},
   "source": [
    "![image](https://cdn-images-1.medium.com/max/1000/1*r0gYXMSQf5VhdMyl2bRDyg.png)"
   ]
  },
  {
   "cell_type": "markdown",
   "metadata": {},
   "source": [
    "## 請搜尋目標為多標籤問題 (Multi-label) 的機器學習案例，了解其資料來源、目標以及評估指標為何\n",
    "## Hint: 服飾"
   ]
  },
  {
   "cell_type": "markdown",
   "metadata": {},
   "source": [
    "基於Keras實現多標籤分類(multi-label classification)\n",
    "\n",
    "https://blog.csdn.net/Synioe/article/details/83903774\n",
    "\n",
    "[資料來源]\n",
    "數據通過python爬蟲在網站上抓取得到，含6個類別的2,167個圖像。\n",
    "黑色牛仔褲（344圖像）\n",
    "藍色連衣裙（386圖像）\n",
    "藍色牛仔褲（356圖像）\n",
    "藍色襯衫（369圖像）\n",
    "紅色連衣裙（380圖像）\n",
    "紅色襯衫（332圖像）\n",
    "\n",
    "[目標]\n",
    "判斷目標圖像中的穿著(種類&顏色)\n",
    "\n",
    "[評估指標]\n",
    "1.使用sigmoid激活替換網絡末端的softmax激活\n",
    "2.二值交叉熵作為分類交叉熵損失函數\n",
    "交叉熵是用來判定實際的輸出與期望的輸出的接近程度\n",
    "\n",
    "補充：\n",
    "理解交叉熵作為損失函數在神經網絡中的作用\n",
    "https://blog.csdn.net/chaipp0607/article/details/73392175\n",
    "\n",
    "-------------------------------------------------------------\n",
    "[Reference]\n",
    "\n",
    "【時尚+智能】阿里巴巴FashionAI項目 攜GUESS率先推概念店\n",
    "https://www.alibabanews.com/shishangzhineng-alibabafashionaixiangmu-xieguessluxiantuigainiandian/\n",
    "\n",
    "FashionAI: A Hierarchical Dataset for Fashion Understanding\n",
    "http://openaccess.thecvf.com/content_CVPRW_2019/papers/FFSS-USAD/Zou_FashionAI_A_Hierarchical_Dataset_for_Fashion_Understanding_CVPRW_2019_paper.pdf\n",
    "\n",
    "FashionAI方法總結\n",
    "https://zhuanlan.zhihu.com/p/42354738"
   ]
  }
 ],
 "metadata": {
  "kernelspec": {
   "display_name": "Python 3",
   "language": "python",
   "name": "python3"
  },
  "language_info": {
   "codemirror_mode": {
    "name": "ipython",
    "version": 3
   },
   "file_extension": ".py",
   "mimetype": "text/x-python",
   "name": "python",
   "nbconvert_exporter": "python",
   "pygments_lexer": "ipython3",
   "version": "3.7.3"
  }
 },
 "nbformat": 4,
 "nbformat_minor": 2
}
